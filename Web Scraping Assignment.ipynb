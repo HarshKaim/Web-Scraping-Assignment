{
 "cells": [
  {
   "cell_type": "markdown",
   "id": "a1224b9b-7acb-4a5e-83c2-dcfcbc908473",
   "metadata": {},
   "source": [
    "Q1. What is Web Scraping? Why is it Used? Give three areas where Web Scraping is used to get data.\n",
    "\n",
    "Ans. Web Scraping is the technique of collecting information from the web pages of websites. It is used to collect the data which can be processed and analyzed to learn about the trends and also in training a model. Web Scraping is used in real estate business, model training and e commerce business for e.g. to collect all the reviews in a single file for analytical and model training purposes."
   ]
  },
  {
   "cell_type": "markdown",
   "id": "bc7a1a36-49eb-4b3e-9e46-2799574f4c93",
   "metadata": {},
   "source": [
    "Q2. What are the different methods used for Web Scraping?\n",
    "\n",
    "Ans. The different methods for Web Scraping includes manual copy and pasting, API calling, HTML Parsing etc."
   ]
  },
  {
   "cell_type": "markdown",
   "id": "42b6d118-5fff-477d-8454-d3e533a91379",
   "metadata": {},
   "source": [
    "Q3. What is Beautiful Soup? Why is it used?\n",
    "\n",
    "Ans. Beautiful Soup is a python library which is used to parse HTML documents of web pages. It takes the raw HTML document and parses it to allow the developer to easily identify the data between HTML tags for scraping."
   ]
  },
  {
   "cell_type": "markdown",
   "id": "bbc019ce-c0ac-4e00-be7d-3fab309b9c56",
   "metadata": {},
   "source": [
    "Q4. Why is flask used in this Web Scraping project?\n",
    "\n",
    "Ans. Flask is used in Web Scraping projects for majorly two reasons one is it can create web application for displaying the scraped data and the other is it can be used to create Web Scraping APIs which can be used by some third party programmer to scrape some data for their own work."
   ]
  },
  {
   "cell_type": "markdown",
   "id": "54adf7e9-9c83-411e-8ad0-d6954cf8d8cc",
   "metadata": {},
   "source": [
    "Q5. Write the names of AWS services used in this project. Also, explain the use of each service.\n",
    "\n",
    "Ans. AWS services used in this project are Code Pipeline and Bean Stalk. Code Pipeline acts as the CI/CD pipeline which is used to connect our code in github repository with Bean Stalk, which helps in allocating resources for our code to run on AWS Servers."
   ]
  }
 ],
 "metadata": {
  "kernelspec": {
   "display_name": "Python 3 (ipykernel)",
   "language": "python",
   "name": "python3"
  },
  "language_info": {
   "codemirror_mode": {
    "name": "ipython",
    "version": 3
   },
   "file_extension": ".py",
   "mimetype": "text/x-python",
   "name": "python",
   "nbconvert_exporter": "python",
   "pygments_lexer": "ipython3",
   "version": "3.12.5"
  }
 },
 "nbformat": 4,
 "nbformat_minor": 5
}
